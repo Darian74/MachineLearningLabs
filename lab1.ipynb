{
 "cells": [
  {
   "cell_type": "markdown",
   "metadata": {},
   "source": [
    "# Лабораторная работа 1. Язык Python, основные библиотеки для анализа данных."
   ]
  },
  {
   "cell_type": "markdown",
   "metadata": {},
   "source": [
    "ФИО: Полушин Владимир Владимирович\n",
    "\n",
    "Группа: 317"
   ]
  },
  {
   "cell_type": "code",
   "execution_count": 2,
   "metadata": {
    "collapsed": true
   },
   "outputs": [],
   "source": [
    "import numpy as np\n",
    "import pandas as pd"
   ]
  },
  {
   "cell_type": "markdown",
   "metadata": {},
   "source": [
    "## Часть 1: Python"
   ]
  },
  {
   "cell_type": "markdown",
   "metadata": {},
   "source": [
    "#### 1. Напишите код, который сформирует список всех натуральных чисел, не превосходящих 100, которые делятся на 7 и не делятся на 5. Нельзя использовать циклы — выполните это задание с помощью list comprehension."
   ]
  },
  {
   "cell_type": "code",
   "execution_count": 5,
   "metadata": {
    "collapsed": false
   },
   "outputs": [
    {
     "data": {
      "text/plain": [
       "[7, 14, 21, 28, 42, 49, 56, 63, 77, 84, 91, 98]"
      ]
     },
     "execution_count": 5,
     "metadata": {},
     "output_type": "execute_result"
    }
   ],
   "source": [
    "[x for x in range(101) if x % 7 == 0 and x % 5 != 0]"
   ]
  },
  {
   "cell_type": "markdown",
   "metadata": {},
   "source": [
    "#### 2. Напишите функцию `sort_tokens(s)`, которая принимает на вход строку, разделяет ее на токены по запятым, сортирует токены с помощью функции `sorted()` и снова соединяет их в одну строку через запятые. Например, для строки `u\"ночь,фонарь,улица\"` функция должна выдать `u\"ночь,улица,фонарь\"`. Придумайте несколько входных строк и протестируйте функцию на них."
   ]
  },
  {
   "cell_type": "markdown",
   "metadata": {},
   "source": [
    "Обратите внимание, что склеить строки можно с помощью конструкции `'x'.join(...)`. Например:"
   ]
  },
  {
   "cell_type": "code",
   "execution_count": 2,
   "metadata": {
    "collapsed": false
   },
   "outputs": [
    {
     "data": {
      "text/plain": [
       "'i! am! very! excited! :-)'"
      ]
     },
     "execution_count": 2,
     "metadata": {},
     "output_type": "execute_result"
    }
   ],
   "source": [
    "'! '.join(['i', 'am', 'very', 'excited', ':-)'])"
   ]
  },
  {
   "cell_type": "code",
   "execution_count": 2,
   "metadata": {
    "collapsed": false
   },
   "outputs": [
    {
     "name": "stdout",
     "output_type": "stream",
     "text": [
      "a,b,c,d\n",
      "ночь,улица,фонарь\n",
      " вмк, худший,а мехмат,это лучший факультет\n"
     ]
    }
   ],
   "source": [
    "def sort_tokens(s):\n",
    "    return \",\".join(sorted(s.split(\",\")))\n",
    "print(sort_tokens('d,c,b,a'))\n",
    "print(sort_tokens(u\"ночь,фонарь,улица\"))\n",
    "print(sort_tokens(u\" вмк,это лучший факультет,а мехмат, худший\"))"
   ]
  },
  {
   "cell_type": "markdown",
   "metadata": {},
   "source": [
    "#### 3. Напишите функцию `remove_duplicates(a)`, которая принимает на вход список и возвращает его же, но без дубликатов и в отсортированном виде. Например, для списка `[u\"ночь\", u\"улица\", u\"фонарь\", u\"аптека\", u\"аптека\", u\"улица\", u\"фонарь\"]` результат должен быть `[u\"аптека\", u\"ночь\", u\"улица\", u\"фонарь\", ]`."
   ]
  },
  {
   "cell_type": "markdown",
   "metadata": {},
   "source": [
    "Подсказка: обратите внимание на структуру `set`!"
   ]
  },
  {
   "cell_type": "code",
   "execution_count": 3,
   "metadata": {
    "collapsed": false
   },
   "outputs": [
    {
     "name": "stdout",
     "output_type": "stream",
     "text": [
      "аптека ночь улица фонарь\n",
      "a b c d e f z\n"
     ]
    }
   ],
   "source": [
    "def remove_duplicates(a):\n",
    "    return sorted(set(a))\n",
    "print(\" \".join(remove_duplicates([u\"ночь\", u\"улица\", u\"фонарь\", u\"аптека\", u\"аптека\", u\"улица\", u\"фонарь\"])))\n",
    "print(\" \".join(remove_duplicates([\"z\", \"a\", \"b\", \"c\", \"d\", \"e\", \"f\", \"a\", \"f\", \"d\", \"e\"])))"
   ]
  },
  {
   "cell_type": "markdown",
   "metadata": {},
   "source": [
    "#### 4. Напишите функцию `word_counts(texts)`, которая принимает на вход список строк, и печатает пары (слово, число вхождений). Считайте, что слова в текстах могут быть разделены только пробелами. Например, для входа `[u'ночь улица фонарь аптека', u'аптека улица фонарь']` должно быть напечатано\n",
    ">аптека 2\n",
    "\n",
    ">улица 2\n",
    "\n",
    ">фонарь 2\n",
    "\n",
    ">ночь 1"
   ]
  },
  {
   "cell_type": "markdown",
   "metadata": {},
   "source": [
    "Подсказки:\n",
    "\n",
    "Чтобы разбить каждый из текстов на слова, воспользуйтесь функцией `map`, которая применяет заданную функцию к каждому элементу списка. Например, если бы нужно было каждый из текстов привести к нижнему регистру, то команда выглядела бы так:"
   ]
  },
  {
   "cell_type": "code",
   "execution_count": 4,
   "metadata": {
    "collapsed": false
   },
   "outputs": [
    {
     "data": {
      "text/plain": [
       "['abcdefg', 'hijkl']"
      ]
     },
     "execution_count": 4,
     "metadata": {},
     "output_type": "execute_result"
    }
   ],
   "source": [
    "map(lambda x: x.lower(), [\"abCDefg\", \"HIjkL\"])"
   ]
  },
  {
   "cell_type": "markdown",
   "metadata": {},
   "source": [
    "После первого шага вы получите список, состоящий из списков слов. Чтобы объединить их в один список слов, воспользуйтесь функцией `reduce`. Например, просуммировать числа из списка с ее помощью можно так:\n",
    "\n"
   ]
  },
  {
   "cell_type": "code",
   "execution_count": 51,
   "metadata": {
    "collapsed": false
   },
   "outputs": [
    {
     "data": {
      "text/plain": [
       "15"
      ]
     },
     "execution_count": 51,
     "metadata": {},
     "output_type": "execute_result"
    }
   ],
   "source": [
    "reduce(lambda x, y: x + y, [1, 2, 3, 4, 5])"
   ]
  },
  {
   "cell_type": "markdown",
   "metadata": {},
   "source": [
    "Для подсчета количества вхождений слов воспользуйтесь структурой `defaultdict` из модуля `collections`. В отличие от обычного `dict`, она не генерирует ошибку при обращении к несуществущему ключу, а создает новую запись, инициализируемую нулевым значением. Например:"
   ]
  },
  {
   "cell_type": "code",
   "execution_count": 5,
   "metadata": {
    "collapsed": false
   },
   "outputs": [
    {
     "name": "stdout",
     "output_type": "stream",
     "text": [
      "defaultdict(<type 'int'>, {})\n",
      "defaultdict(<type 'int'>, {'abc': 1})\n",
      "defaultdict(<type 'int'>, {'xxx': 0, 'abc': 1})\n"
     ]
    }
   ],
   "source": [
    "from collections import defaultdict\n",
    "d = defaultdict(int)\n",
    "print d\n",
    "d['abc'] += 1\n",
    "print d\n",
    "d['xxx']\n",
    "print d"
   ]
  },
  {
   "cell_type": "code",
   "execution_count": 6,
   "metadata": {
    "collapsed": false
   },
   "outputs": [
    {
     "name": "stdout",
     "output_type": "stream",
     "text": [
      "аптека 2\n",
      "улица 2\n",
      "фонарь 2\n",
      "ночь 1\n"
     ]
    }
   ],
   "source": [
    "from collections import defaultdict\n",
    "from functools import reduce\n",
    "def word_counts(texts):\n",
    "    d = defaultdict(int)\n",
    "    words = reduce(lambda a, b: a + b, map(lambda text: text.split(\" \"), texts))\n",
    "    for word in words:\n",
    "        d[word] += 1\n",
    "    for item in d.items():\n",
    "        print(\" \".join(map(unicode, item)))\n",
    "word_counts([u'ночь улица фонарь аптека', u'аптека улица фонарь'])"
   ]
  },
  {
   "cell_type": "markdown",
   "metadata": {},
   "source": [
    "#### 5. (бонусное задание) Скачайте английский перевод \"Преступления и наказания\". Найдите 20 самых популярных слов и 20 слов, которые встречаются только один раз."
   ]
  },
  {
   "cell_type": "markdown",
   "metadata": {},
   "source": [
    "Приведите текст к нижнему регистру. Удалите из него все специальные символы и цифры. Разделите текст на слова, считая разделителями все, кроме букв. Обратите внимание на функцию `split` из модуля `re`.\n",
    "\n",
    "Не забудьте удалить пустые слова:\n",
    "```\n",
    "words = filter(lambda x: len(x) > 0, words)\n",
    "```"
   ]
  },
  {
   "cell_type": "code",
   "execution_count": 7,
   "metadata": {
    "collapsed": false
   },
   "outputs": [],
   "source": [
    "from urllib import urlopen\n",
    "url = \"http://www.gutenberg.org/files/2554/2554.txt\"\n",
    "response = urlopen(url)\n",
    "raw_text = response.read().decode('utf8')"
   ]
  },
  {
   "cell_type": "code",
   "execution_count": 8,
   "metadata": {
    "collapsed": false
   },
   "outputs": [
    {
     "data": {
      "text/plain": [
       "u'r five\\r\\nchildren in only two rooms. The father and mother spent their evenings\\r\\nin reading aloud to '"
      ]
     },
     "execution_count": 8,
     "metadata": {},
     "output_type": "execute_result"
    }
   ],
   "source": [
    "raw_text[1000:1100]"
   ]
  },
  {
   "cell_type": "code",
   "execution_count": 20,
   "metadata": {
    "collapsed": false
   },
   "outputs": [
    {
     "name": "stdout",
     "output_type": "stream",
     "text": [
      "Top 20\n",
      "[(8003, u'the'), (7042, u'and'), (5497, u'to'), (4900, u'he'), (4668, u'a'), (4405, u'i'), (4118, u'you'), (3928, u'of'), (3463, u'it'), (3308, u'that'), (3254, u'in'), (2827, u'was'), (2116, u'his'), (2082, u'at'), (1829, u'her'), (1801, u'but'), (1775, u'not'), (1765, u's'), (1757, u'with'), (1695, u'she')]\n",
      "Only once 20\n",
      "[(1, u'abandoning'), (1, u'abasement'), (1, u'abide'), (1, u'abject'), (1, u'abjectly'), (1, u'abjectness'), (1, u'abjure'), (1, u'abnegation'), (1, u'abnormality'), (1, u'abolition'), (1, u'abominably'), (1, u'abortions'), (1, u'abraham'), (1, u'abrupt'), (1, u'abundant'), (1, u'abused'), (1, u'abyss'), (1, u'academy'), (1, u'accelerate'), (1, u'accent')]\n"
     ]
    }
   ],
   "source": [
    "import re\n",
    "from collections import defaultdict\n",
    "d = defaultdict(int)\n",
    "words = re.findall('[A-Za-z]+', raw_text)\n",
    "for word in words:\n",
    "    d[word.lower()] += 1\n",
    "words_with_count = [(item[1], item[0]) for item in d.items()]\n",
    "print(\"Top 20\")\n",
    "print(sorted(words_with_count, reverse=True)[:20])\n",
    "print(\"Only once 20\")\n",
    "print(sorted(words_with_count)[:20])"
   ]
  },
  {
   "cell_type": "markdown",
   "metadata": {},
   "source": [
    "## Часть 2: NumPy и SciPy"
   ]
  },
  {
   "cell_type": "markdown",
   "metadata": {},
   "source": [
    "#### 1. Повторите 1000 раз следующий эксперимент: сгенерируйте две матрицы размера $10 \\times 10$ из стандартного нормального распределения, перемножьте их (как матрицы) и найдите максимальный элемент. Какое среднее значение по экспериментам у максимальных элементов? 95-процентная квантиль?"
   ]
  },
  {
   "cell_type": "markdown",
   "metadata": {},
   "source": [
    "Для вычисления квантили воспользуйтесь функцией `np.percentile`"
   ]
  },
  {
   "cell_type": "code",
   "execution_count": 12,
   "metadata": {
    "collapsed": false
   },
   "outputs": [
    {
     "name": "stdout",
     "output_type": "stream",
     "text": [
      "8.37191471375\n",
      "11.9210444491\n"
     ]
    }
   ],
   "source": [
    "vals = np.empty(1000)\n",
    "for i in range(1000):\n",
    "    m1 = np.random.normal(0, 1, (10, 10))\n",
    "    m2 = np.random.normal(0, 1, (10, 10))\n",
    "    vals[i] = np.max(m1.dot(m2))\n",
    "    \n",
    "print(np.average(vals))\n",
    "print(np.percentile(vals, 95))"
   ]
  },
  {
   "cell_type": "markdown",
   "metadata": {},
   "source": [
    "#### 2. Сгенерируйте 1000 чисел из распределения Пуассона с параметром $\\lambda = 5$. Сформируйте массив, в котором в i-м элементе будет записано количество сгенерированных чисел, равных i."
   ]
  },
  {
   "cell_type": "markdown",
   "metadata": {},
   "source": [
    "Обратите внимание на функцию `np.bincount`"
   ]
  },
  {
   "cell_type": "code",
   "execution_count": 26,
   "metadata": {
    "collapsed": false
   },
   "outputs": [
    {
     "data": {
      "text/plain": [
       "array([  6,  33,  85, 154, 161, 176, 161, 103,  50,  30,  24,  11,   3,\n",
       "         2,   1])"
      ]
     },
     "execution_count": 26,
     "metadata": {},
     "output_type": "execute_result"
    }
   ],
   "source": [
    "arr = np.random.poisson(5, 1000)\n",
    "np.bincount(arr)"
   ]
  },
  {
   "cell_type": "markdown",
   "metadata": {},
   "source": [
    "#### 3. Реализуйте функцию, которая принимает на вход numpy-массив целых чисел `a`, и генерирует массив, в котором число `i` встречается `a[i]` раз. Протестируйте на результате из прошлого задания."
   ]
  },
  {
   "cell_type": "markdown",
   "metadata": {},
   "source": [
    "Обратите внимание на функцию `np.repeat`"
   ]
  },
  {
   "cell_type": "code",
   "execution_count": 30,
   "metadata": {
    "collapsed": false
   },
   "outputs": [
    {
     "data": {
      "text/plain": [
       "array([0, 1, 1, 2, 2, 2, 3, 3, 3, 3, 7, 7, 7, 7, 7])"
      ]
     },
     "execution_count": 30,
     "metadata": {},
     "output_type": "execute_result"
    }
   ],
   "source": [
    "def super_repeat(a):\n",
    "    arr_len = np.sum(a)\n",
    "    arr = np.empty(arr_len, dtype=int)\n",
    "    now = 0\n",
    "    for i in range(len(a)):\n",
    "        arr[now:now+a[i]] = np.repeat([i], a[i])\n",
    "        now += a[i]\n",
    "    return arr\n",
    "super_repeat(np.array([1, 2, 3, 4, 0, 0, 0, 5], dtype=int))"
   ]
  },
  {
   "cell_type": "markdown",
   "metadata": {},
   "source": [
    "#### 4. Напишите функцию `scale(X)`, которая принимает на вход матрицу и масштабирует каждый ее столбец (вычитает среднее и делит на стандартное отклонение). Убедитесь, что в функции не будет происходить деления на ноль. Протестируйте на каких-нибудь данных."
   ]
  },
  {
   "cell_type": "code",
   "execution_count": 46,
   "metadata": {
    "collapsed": false
   },
   "outputs": [
    {
     "name": "stdout",
     "output_type": "stream",
     "text": [
      "[[-0.70710678 -1.22474487  0.        ]\n",
      " [-0.70710678  0.          0.        ]\n",
      " [ 1.41421356  1.22474487  0.        ]]\n"
     ]
    }
   ],
   "source": [
    "def scale(X):\n",
    "    eps = 0.0000001\n",
    "    for i in range(X.shape[1]):\n",
    "        e = np.average(X[:, i])\n",
    "        d = np.std(X[:, i])\n",
    "        if abs(d) > eps:\n",
    "            X[:, i] -= e\n",
    "            X[:, i] /= d\n",
    "    return X\n",
    "        \n",
    "X = scale(np.array([[1, 2, 0], [1, 5, 0], [2, 8, 0]], dtype=float))\n",
    "print(X)"
   ]
  },
  {
   "cell_type": "markdown",
   "metadata": {},
   "source": [
    "#### 5. Сгенерируйте матрицу с элементами из нормального распределения $\\mathcal{N}(10, 1)$. Найдите ее:\n",
    "- определитель\n",
    "- след\n",
    "- наименьший и наибольший элементы\n",
    "- спектральную норму\n",
    "- норму Фробениуса\n",
    "- собственные числа\n",
    "- обратную матрицу"
   ]
  },
  {
   "cell_type": "code",
   "execution_count": 99,
   "metadata": {
    "collapsed": false
   },
   "outputs": [
    {
     "name": "stdout",
     "output_type": "stream",
     "text": [
      "224.681890924\n",
      "104.86985068\n",
      "7.56659779555\n",
      "12.3511376474\n",
      "100.918316805\n",
      "0.00312542770902\n",
      "[  1.00493935e+02+0.j          -2.05279076e+00+1.30872288j\n",
      "  -2.05279076e+00-1.30872288j   3.06194221e+00+0.j           2.51906557e+00+0.j\n",
      "   1.38891123e+00+1.60114872j   1.38891123e+00-1.60114872j\n",
      "   5.85580477e-02+1.39913426j   5.85580477e-02-1.39913426j\n",
      "   5.55120340e-03+0.j        ]\n",
      "[[-17.14505614  -0.22699164 -29.86027578  26.31624296 -27.05303205\n",
      "   11.08634933  30.36354696 -11.58860233  18.27223937   1.93115447]\n",
      " [  9.75036375   0.09591236  16.36199016 -14.83089575  14.94953946\n",
      "   -6.01259019 -16.75222849   6.46730068  -9.88131052  -1.2682156 ]\n",
      " [ 26.517369     0.23224784  45.22493472 -39.66362688  40.57444965\n",
      "  -16.5317826  -46.22570462  17.90829728 -27.93301325  -3.25842109]\n",
      " [-27.58812091  -0.48733643 -47.05450025  41.7024689  -42.63481059\n",
      "   17.51347283  48.29200508 -18.51573847  29.02803173   3.05486055]\n",
      " [ 39.08416226   1.00642009  67.64212992 -59.74882271  61.2497904\n",
      "  -25.05680785 -69.26181903  26.41306007 -41.78528761  -4.2730596 ]\n",
      " [-21.43481302  -0.51007692 -37.3880877   33.05265805 -33.49033087\n",
      "   13.79476195  38.0363951  -14.58263314  22.72985722   2.39557673]\n",
      " [-45.34814137  -1.50085424 -78.3457989   68.61084893 -70.64865891\n",
      "   29.39286203  80.31119497 -30.6370875   48.31447944   5.37861277]\n",
      " [ -5.70438727   0.08418319  -8.99763626   7.82800397  -8.1335714\n",
      "    3.0868455    9.30337569  -3.36943679   5.75384128   0.76885334]\n",
      " [ 38.74506943   0.8805976   65.87949318 -57.76771228  59.45595744\n",
      "  -24.60264547 -67.29009685  25.49930326 -40.79576191  -4.60549162]\n",
      " [  4.04952562   0.48008738   8.17840352  -6.90530306   7.20580736\n",
      "   -3.28077605  -8.44010144   3.04796117  -4.6923122   -0.20888792]]\n"
     ]
    }
   ],
   "source": [
    "from numpy import linalg as la\n",
    "m = np.random.normal(10, 1, (10, 10))\n",
    "print(la.det(m))\n",
    "print(np.trace(m))\n",
    "print(np.min(m))\n",
    "print(np.max(m))\n",
    "print(la.norm(m))\n",
    "print(la.norm(m, -2))\n",
    "print(la.eig(m)[0])\n",
    "print(la.inv(m))"
   ]
  },
  {
   "cell_type": "markdown",
   "metadata": {},
   "source": [
    "## Часть 3: Pandas"
   ]
  },
  {
   "cell_type": "markdown",
   "metadata": {},
   "source": [
    "#### Ответьте на вопросы о данных по авиарейсам в США за январь-апрель 2008 года.\n",
    "\n",
    "Данные: http://stat-computing.org/dataexpo/2009/2008.csv.bz2\n",
    "(обратите внимание, что распаковывать этот файл не обязательно — функция `pandas.read_csv` умеет читать из архивов автоматически)\n",
    "\n",
    "Описание: http://stat-computing.org/dataexpo/2009/the-data.html\n",
    "\n",
    "1. Какая из причин отмены рейса (`CancellationCode`) была самой частой? (расшифровки кодов можно найти в описании данных)\n",
    "2. Найдите среднее, минимальное и максимальное расстояние, пройденное самолетом.\n",
    "3. Не выглядит ли подозрительным минимальное пройденное расстояние? В какие дни и на каких рейсах оно было? Какое расстояние было пройдено этими же рейсами в другие дни?\n",
    "4. Из какого аэропорта было произведено больше всего вылетов? В каком городе он находится?\n",
    "5. Найдите для каждого аэропорта среднее время полета (`AirTime`) по всем вылетевшим из него рейсам. Какой аэропорт имеет наибольшее значение этого показателя?\n",
    "6. Найдите аэропорт, у которого наибольшая доля задержанных (`DepDelay > 0`) рейсов. Исключите при этом из рассмотрения аэропорты, из которых было отправлено меньше 1000 рейсов (используйте функцию `filter` после `groupby`)."
   ]
  },
  {
   "cell_type": "code",
   "execution_count": 2,
   "metadata": {
    "collapsed": false
   },
   "outputs": [
    {
     "data": {
      "text/html": [
       "<div style=\"max-height:1000px;max-width:1500px;overflow:auto;\">\n",
       "<table border=\"1\" class=\"dataframe\">\n",
       "  <thead>\n",
       "    <tr style=\"text-align: right;\">\n",
       "      <th></th>\n",
       "      <th>Year</th>\n",
       "      <th>Month</th>\n",
       "      <th>DayofMonth</th>\n",
       "      <th>DayOfWeek</th>\n",
       "      <th>DepTime</th>\n",
       "      <th>CRSDepTime</th>\n",
       "      <th>ArrTime</th>\n",
       "      <th>CRSArrTime</th>\n",
       "      <th>UniqueCarrier</th>\n",
       "      <th>FlightNum</th>\n",
       "      <th>...</th>\n",
       "      <th>TaxiIn</th>\n",
       "      <th>TaxiOut</th>\n",
       "      <th>Cancelled</th>\n",
       "      <th>CancellationCode</th>\n",
       "      <th>Diverted</th>\n",
       "      <th>CarrierDelay</th>\n",
       "      <th>WeatherDelay</th>\n",
       "      <th>NASDelay</th>\n",
       "      <th>SecurityDelay</th>\n",
       "      <th>LateAircraftDelay</th>\n",
       "    </tr>\n",
       "  </thead>\n",
       "  <tbody>\n",
       "    <tr>\n",
       "      <th>0</th>\n",
       "      <td> 2008</td>\n",
       "      <td> 1</td>\n",
       "      <td> 3</td>\n",
       "      <td> 4</td>\n",
       "      <td> 2003</td>\n",
       "      <td> 1955</td>\n",
       "      <td> 2211</td>\n",
       "      <td> 2225</td>\n",
       "      <td> WN</td>\n",
       "      <td>  335</td>\n",
       "      <td>...</td>\n",
       "      <td> 4</td>\n",
       "      <td>  8</td>\n",
       "      <td> 0</td>\n",
       "      <td> NaN</td>\n",
       "      <td> 0</td>\n",
       "      <td>NaN</td>\n",
       "      <td>NaN</td>\n",
       "      <td>NaN</td>\n",
       "      <td>NaN</td>\n",
       "      <td>NaN</td>\n",
       "    </tr>\n",
       "    <tr>\n",
       "      <th>1</th>\n",
       "      <td> 2008</td>\n",
       "      <td> 1</td>\n",
       "      <td> 3</td>\n",
       "      <td> 4</td>\n",
       "      <td>  754</td>\n",
       "      <td>  735</td>\n",
       "      <td> 1002</td>\n",
       "      <td> 1000</td>\n",
       "      <td> WN</td>\n",
       "      <td> 3231</td>\n",
       "      <td>...</td>\n",
       "      <td> 5</td>\n",
       "      <td> 10</td>\n",
       "      <td> 0</td>\n",
       "      <td> NaN</td>\n",
       "      <td> 0</td>\n",
       "      <td>NaN</td>\n",
       "      <td>NaN</td>\n",
       "      <td>NaN</td>\n",
       "      <td>NaN</td>\n",
       "      <td>NaN</td>\n",
       "    </tr>\n",
       "    <tr>\n",
       "      <th>2</th>\n",
       "      <td> 2008</td>\n",
       "      <td> 1</td>\n",
       "      <td> 3</td>\n",
       "      <td> 4</td>\n",
       "      <td>  628</td>\n",
       "      <td>  620</td>\n",
       "      <td>  804</td>\n",
       "      <td>  750</td>\n",
       "      <td> WN</td>\n",
       "      <td>  448</td>\n",
       "      <td>...</td>\n",
       "      <td> 3</td>\n",
       "      <td> 17</td>\n",
       "      <td> 0</td>\n",
       "      <td> NaN</td>\n",
       "      <td> 0</td>\n",
       "      <td>NaN</td>\n",
       "      <td>NaN</td>\n",
       "      <td>NaN</td>\n",
       "      <td>NaN</td>\n",
       "      <td>NaN</td>\n",
       "    </tr>\n",
       "    <tr>\n",
       "      <th>3</th>\n",
       "      <td> 2008</td>\n",
       "      <td> 1</td>\n",
       "      <td> 3</td>\n",
       "      <td> 4</td>\n",
       "      <td>  926</td>\n",
       "      <td>  930</td>\n",
       "      <td> 1054</td>\n",
       "      <td> 1100</td>\n",
       "      <td> WN</td>\n",
       "      <td> 1746</td>\n",
       "      <td>...</td>\n",
       "      <td> 3</td>\n",
       "      <td>  7</td>\n",
       "      <td> 0</td>\n",
       "      <td> NaN</td>\n",
       "      <td> 0</td>\n",
       "      <td>NaN</td>\n",
       "      <td>NaN</td>\n",
       "      <td>NaN</td>\n",
       "      <td>NaN</td>\n",
       "      <td>NaN</td>\n",
       "    </tr>\n",
       "    <tr>\n",
       "      <th>4</th>\n",
       "      <td> 2008</td>\n",
       "      <td> 1</td>\n",
       "      <td> 3</td>\n",
       "      <td> 4</td>\n",
       "      <td> 1829</td>\n",
       "      <td> 1755</td>\n",
       "      <td> 1959</td>\n",
       "      <td> 1925</td>\n",
       "      <td> WN</td>\n",
       "      <td> 3920</td>\n",
       "      <td>...</td>\n",
       "      <td> 3</td>\n",
       "      <td> 10</td>\n",
       "      <td> 0</td>\n",
       "      <td> NaN</td>\n",
       "      <td> 0</td>\n",
       "      <td>  2</td>\n",
       "      <td>  0</td>\n",
       "      <td>  0</td>\n",
       "      <td>  0</td>\n",
       "      <td> 32</td>\n",
       "    </tr>\n",
       "  </tbody>\n",
       "</table>\n",
       "<p>5 rows × 29 columns</p>\n",
       "</div>"
      ],
      "text/plain": [
       "   Year  Month  DayofMonth  DayOfWeek  DepTime  CRSDepTime  ArrTime  \\\n",
       "0  2008      1           3          4     2003        1955     2211   \n",
       "1  2008      1           3          4      754         735     1002   \n",
       "2  2008      1           3          4      628         620      804   \n",
       "3  2008      1           3          4      926         930     1054   \n",
       "4  2008      1           3          4     1829        1755     1959   \n",
       "\n",
       "   CRSArrTime UniqueCarrier  FlightNum        ...         TaxiIn  TaxiOut  \\\n",
       "0        2225            WN        335        ...              4        8   \n",
       "1        1000            WN       3231        ...              5       10   \n",
       "2         750            WN        448        ...              3       17   \n",
       "3        1100            WN       1746        ...              3        7   \n",
       "4        1925            WN       3920        ...              3       10   \n",
       "\n",
       "   Cancelled  CancellationCode  Diverted  CarrierDelay WeatherDelay NASDelay  \\\n",
       "0          0               NaN         0           NaN          NaN      NaN   \n",
       "1          0               NaN         0           NaN          NaN      NaN   \n",
       "2          0               NaN         0           NaN          NaN      NaN   \n",
       "3          0               NaN         0           NaN          NaN      NaN   \n",
       "4          0               NaN         0             2            0        0   \n",
       "\n",
       "   SecurityDelay  LateAircraftDelay  \n",
       "0            NaN                NaN  \n",
       "1            NaN                NaN  \n",
       "2            NaN                NaN  \n",
       "3            NaN                NaN  \n",
       "4              0                 32  \n",
       "\n",
       "[5 rows x 29 columns]"
      ]
     },
     "execution_count": 2,
     "metadata": {},
     "output_type": "execute_result"
    }
   ],
   "source": [
    "import pandas as pd\n",
    "import numpy as np\n",
    "data = pd.read_csv(\"2008.csv\", error_bad_lines=False)\n",
    "data.head()"
   ]
  },
  {
   "cell_type": "code",
   "execution_count": 3,
   "metadata": {
    "collapsed": false
   },
   "outputs": [
    {
     "data": {
      "text/plain": [
       "B    54904\n",
       "A    54330\n",
       "C    28188\n",
       "D       12\n",
       "dtype: int64"
      ]
     },
     "execution_count": 3,
     "metadata": {},
     "output_type": "execute_result"
    }
   ],
   "source": [
    "codes = data[\"CancellationCode\"]\n",
    "codes.value_counts() #B - weather"
   ]
  },
  {
   "cell_type": "code",
   "execution_count": 4,
   "metadata": {
    "collapsed": false
   },
   "outputs": [
    {
     "name": "stdout",
     "output_type": "stream",
     "text": [
      "Max:  4962\n",
      "Average:  726.387029425\n",
      "Min:  11\n"
     ]
    }
   ],
   "source": [
    "dists = data[\"Distance\"]\n",
    "print \"Max: \", dists.max()\n",
    "print \"Average: \", dists.mean()\n",
    "print \"Min: \", dists.min()"
   ]
  },
  {
   "cell_type": "code",
   "execution_count": 5,
   "metadata": {
    "collapsed": false
   },
   "outputs": [
    {
     "name": "stdout",
     "output_type": "stream",
     "text": [
      "         Year  Month  DayofMonth  FlightNum UniqueCarrier\n",
      "2547298  2008      5          15       4988            OH\n",
      "4392215  2008      8          10       5572            OH\n"
     ]
    },
    {
     "data": {
      "text/plain": [
       "[array([834,  96,  11, 414, 223, 712, 321, 903]),\n",
       " array([544, 329,  11, 363, 134, 669, 508])]"
      ]
     },
     "execution_count": 5,
     "metadata": {},
     "output_type": "execute_result"
    }
   ],
   "source": [
    "days = data[dists == dists.min()][[\"Year\", \"Month\", \"DayofMonth\", \"FlightNum\", \"UniqueCarrier\"]].drop_duplicates()\n",
    "print days\n",
    "flights_nums = data[dists == dists.min()][\"FlightNum\"].drop_duplicates()\n",
    "[data[data[\"FlightNum\"] == flight_num][\"Distance\"].drop_duplicates().values for flight_num in flights_nums]"
   ]
  },
  {
   "cell_type": "code",
   "execution_count": 7,
   "metadata": {
    "collapsed": true
   },
   "outputs": [],
   "source": [
    "airports = pd.read_csv(\"http://stat-computing.org/dataexpo/2009/airports.csv\")"
   ]
  },
  {
   "cell_type": "code",
   "execution_count": 82,
   "metadata": {
    "collapsed": false
   },
   "outputs": [
    {
     "data": {
      "text/html": [
       "<div style=\"max-height:1000px;max-width:1500px;overflow:auto;\">\n",
       "<table border=\"1\" class=\"dataframe\">\n",
       "  <thead>\n",
       "    <tr style=\"text-align: right;\">\n",
       "      <th></th>\n",
       "      <th>iata</th>\n",
       "      <th>airport</th>\n",
       "      <th>city</th>\n",
       "      <th>state</th>\n",
       "      <th>country</th>\n",
       "      <th>lat</th>\n",
       "      <th>long</th>\n",
       "    </tr>\n",
       "  </thead>\n",
       "  <tbody>\n",
       "    <tr>\n",
       "      <th>880</th>\n",
       "      <td> ATL</td>\n",
       "      <td> William B Hartsfield-Atlanta Intl</td>\n",
       "      <td> Atlanta</td>\n",
       "      <td> GA</td>\n",
       "      <td> USA</td>\n",
       "      <td> 33.640444</td>\n",
       "      <td>-84.426944</td>\n",
       "    </tr>\n",
       "  </tbody>\n",
       "</table>\n",
       "</div>"
      ],
      "text/plain": [
       "    iata                            airport     city state country        lat  \\\n",
       "880  ATL  William B Hartsfield-Atlanta Intl  Atlanta    GA     USA  33.640444   \n",
       "\n",
       "          long  \n",
       "880 -84.426944  "
      ]
     },
     "execution_count": 82,
     "metadata": {},
     "output_type": "execute_result"
    }
   ],
   "source": [
    "most_frequent_airport = data[\"Origin\"].value_counts().index[0]\n",
    "airports[airports[\"iata\"] == most_frequent_airport]"
   ]
  },
  {
   "cell_type": "code",
   "execution_count": 8,
   "metadata": {
    "collapsed": false,
    "scrolled": true
   },
   "outputs": [
    {
     "name": "stdout",
     "output_type": "stream",
     "text": [
      "203.850842697\n"
     ]
    },
    {
     "data": {
      "text/html": [
       "<div style=\"max-height:1000px;max-width:1500px;overflow:auto;\">\n",
       "<table border=\"1\" class=\"dataframe\">\n",
       "  <thead>\n",
       "    <tr style=\"text-align: right;\">\n",
       "      <th></th>\n",
       "      <th>iata</th>\n",
       "      <th>airport</th>\n",
       "      <th>city</th>\n",
       "      <th>state</th>\n",
       "      <th>country</th>\n",
       "      <th>lat</th>\n",
       "      <th>long</th>\n",
       "    </tr>\n",
       "  </thead>\n",
       "  <tbody>\n",
       "    <tr>\n",
       "      <th>2962</th>\n",
       "      <td> SJU</td>\n",
       "      <td> Luis Munoz Marin International</td>\n",
       "      <td> San Juan</td>\n",
       "      <td> PR</td>\n",
       "      <td> USA</td>\n",
       "      <td> 18.439417</td>\n",
       "      <td>-66.001833</td>\n",
       "    </tr>\n",
       "  </tbody>\n",
       "</table>\n",
       "</div>"
      ],
      "text/plain": [
       "     iata                         airport      city state country        lat  \\\n",
       "2962  SJU  Luis Munoz Marin International  San Juan    PR     USA  18.439417   \n",
       "\n",
       "           long  \n",
       "2962 -66.001833  "
      ]
     },
     "execution_count": 8,
     "metadata": {},
     "output_type": "execute_result"
    }
   ],
   "source": [
    "origin_mean_airtime = data.groupby(\"Origin\")[\"AirTime\"].aggregate(np.mean)\n",
    "print origin_mean_airtime.max()\n",
    "airport_max = origin_mean_airtime.idxmax()\n",
    "airports[airports[\"iata\"] == airport_max]"
   ]
  },
  {
   "cell_type": "code",
   "execution_count": 6,
   "metadata": {
    "collapsed": false
   },
   "outputs": [
    {
     "name": "stdout",
     "output_type": "stream",
     "text": [
      "0.578641892894\n"
     ]
    },
    {
     "data": {
      "text/html": [
       "<div style=\"max-height:1000px;max-width:1500px;overflow:auto;\">\n",
       "<table border=\"1\" class=\"dataframe\">\n",
       "  <thead>\n",
       "    <tr style=\"text-align: right;\">\n",
       "      <th></th>\n",
       "      <th>iata</th>\n",
       "      <th>airport</th>\n",
       "      <th>city</th>\n",
       "      <th>state</th>\n",
       "      <th>country</th>\n",
       "      <th>lat</th>\n",
       "      <th>long</th>\n",
       "    </tr>\n",
       "  </thead>\n",
       "  <tbody>\n",
       "    <tr>\n",
       "      <th>1247</th>\n",
       "      <td> DAL</td>\n",
       "      <td> Dallas Love </td>\n",
       "      <td> Dallas</td>\n",
       "      <td> TX</td>\n",
       "      <td> USA</td>\n",
       "      <td> 32.847114</td>\n",
       "      <td>-96.851772</td>\n",
       "    </tr>\n",
       "  </tbody>\n",
       "</table>\n",
       "</div>"
      ],
      "text/plain": [
       "     iata       airport    city state country        lat       long\n",
       "1247  DAL  Dallas Love   Dallas    TX     USA  32.847114 -96.851772"
      ]
     },
     "execution_count": 6,
     "metadata": {},
     "output_type": "execute_result"
    }
   ],
   "source": [
    "threshold = 1000\n",
    "all_flights = data.groupby(\"Origin\").size()\n",
    "delayed_flights = data[data[\"DepDelay\"] > 0].groupby(\"Origin\").size()\n",
    "fraction_delayed = delayed_flights[all_flights > threshold] / all_flights[all_flights > threshold]\n",
    "max_fraction_delayed = fraction_delayed.idxmax()\n",
    "print fraction_delayed.max()\n",
    "airports[airports[\"iata\"] == max_fraction_delayed]"
   ]
  }
 ],
 "metadata": {
  "kernelspec": {
   "display_name": "Python 2",
   "language": "python",
   "name": "python2"
  },
  "language_info": {
   "codemirror_mode": {
    "name": "ipython",
    "version": 2
   },
   "file_extension": ".py",
   "mimetype": "text/x-python",
   "name": "python",
   "nbconvert_exporter": "python",
   "pygments_lexer": "ipython2",
   "version": "2.7.9"
  }
 },
 "nbformat": 4,
 "nbformat_minor": 0
}
